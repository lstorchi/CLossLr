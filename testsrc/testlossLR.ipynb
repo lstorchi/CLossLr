{
 "cells": [
  {
   "cell_type": "code",
   "execution_count": null,
   "metadata": {},
   "outputs": [],
   "source": [
    "import pandas as pd\n",
    "import numpy as np\n",
    "import matplotlib.pyplot as plt\n",
    "from sklearn.preprocessing import StandardScaler\n",
    "from sklearn.linear_model import LinearRegression\n",
    "from scipy.optimize import minimize\n",
    "\n",
    "df = pd.read_csv('data.csv')\n",
    "print(df.columns)\n",
    "Y = df['MEDV']\n",
    "X = df[['RM', 'AGE']]"
   ]
  },
  {
   "cell_type": "code",
   "execution_count": null,
   "metadata": {},
   "outputs": [],
   "source": [
    "#print(X.head())\n",
    "#print(y.head())\n",
    "#plot 3D graph\n",
    "fig = plt.figure()\n",
    "ax = fig.add_subplot(111, projection='3d')\n",
    "ax.scatter(X['RM'], X['AGE'], Y, c='r', marker='o')\n",
    "ax.set_xlabel('RM')\n",
    "ax.set_ylabel('AGE')\n",
    "ax.set_zlabel('MEDV')\n",
    "plt.show()"
   ]
  },
  {
   "cell_type": "code",
   "execution_count": null,
   "metadata": {},
   "outputs": [],
   "source": [
    "import sys\n",
    "import importlib\n",
    "from sklearn.preprocessing import StandardScaler\n",
    "\n",
    "sys.path.append('../')\n",
    "import customlosslr as cl\n",
    "importlib.reload(cl)\n",
    "\n",
    "lm = LinearRegression()\n",
    "lm.fit(X, Y)\n",
    "\n",
    "cm = cl.custom_loss_lr(loss=cl.residual_sum_square)\n",
    "cm.fit(X, Y)\n",
    "beta_hat = cm.get_beta()\n",
    "\n",
    "print(\"%14.5e %14.5e\"%(cm.get_intecept(), lm.intercept_))\n",
    "for i, c in enumerate(cm.get_coefficients()):\n",
    "        print(\"%14.5e %14.5e\"%(c, lm.coef_[i]))\n",
    "\n",
    "#print(result)\n",
    "optlf = cl.mean_absolute_percentage_error(cm.predict(X), Y)\n",
    "lrlf = cl.mean_absolute_percentage_error(lm.predict(X), Y)\n",
    "\n",
    "print(\"        Optimized final loss function: %10.5f\"%(optlf))\n",
    "print(\"Linear Regression FINAL loss function: %10.5f\"%(lrlf))\n",
    "\n",
    "# scatter plot\n",
    "plt.scatter(Y, cm.predict(X))\n",
    "plt.scatter(Y, lm.predict(X))\n",
    "plt.xlabel('True Values')\n",
    "plt.ylabel('Predicted Values')\n",
    "plt.show()\n"
   ]
  }
 ],
 "metadata": {
  "kernelspec": {
   "display_name": "Python 3",
   "language": "python",
   "name": "python3"
  },
  "language_info": {
   "codemirror_mode": {
    "name": "ipython",
    "version": 3
   },
   "file_extension": ".py",
   "mimetype": "text/x-python",
   "name": "python",
   "nbconvert_exporter": "python",
   "pygments_lexer": "ipython3",
   "version": "3.10.14"
  }
 },
 "nbformat": 4,
 "nbformat_minor": 2
}
